{
 "cells": [
  {
   "cell_type": "code",
   "execution_count": 9,
   "metadata": {
    "collapsed": true
   },
   "outputs": [],
   "source": [
    "import pandas as pd\n",
    "import numpy as np\n",
    "import matplotlib.pyplot as plt\n",
    "import seaborn as sns\n",
    "import pickle\n",
    "import scikitplot as skplt\n",
    "from sklearn.decomposition import PCA"
   ]
  },
  {
   "cell_type": "code",
   "execution_count": 2,
   "metadata": {},
   "outputs": [],
   "source": [
    "# Reading of the training and testing dataset\n",
    "train_df = pd.read_csv('../processed_data/train.csv')\n",
    "train_df = train_df.drop(train_df.columns[0], axis=1)\n",
    "train_df = train_df.drop(['ITEM_COUNT','PURCHASEID_hash','COUPON_ID_hash'], axis = 1)       \n",
    "test_df = pd.read_csv('../processed_data/test.csv')\n",
    "test_df = test_df.drop(test_df.columns[0], axis=1)\n",
    "Coupons = list(test_df['COUPON_ID_hash'])\n",
    "test_df = test_df.drop('COUPON_ID_hash', axis = 1)"
   ]
  },
  {
   "cell_type": "code",
   "execution_count": 4,
   "metadata": {
    "collapsed": true
   },
   "outputs": [],
   "source": [
    "# Altering the training dataset\n",
    "\n",
    "# Altering the large area name \n",
    "large_area_name = list(set(train_df['large_area_name']))\n",
    "# Altering the small area name \n",
    "small_area_name = list(set(train_df['small_area_name']))\n",
    "# Altering the ken area name \n",
    "ken_name = list(set(train_df['ken_name']))\n",
    "# Altering the genre name \n",
    "genre_name = list(set(train_df['GENRE_NAME']))"
   ]
  },
  {
   "cell_type": "code",
   "execution_count": 5,
   "metadata": {
    "collapsed": true
   },
   "outputs": [],
   "source": [
    "# Altering the large area name \n",
    "large_area_name = list(set(train_df['large_area_name']))\n",
    "for area_name in large_area_name:\n",
    "\ttrain_df = train_df.replace(to_replace = area_name, value = large_area_name.index(area_name))\n",
    "\n",
    "# Altering the small area name \n",
    "small_area_name = list(set(train_df['small_area_name']))\n",
    "for area_name in small_area_name:\n",
    "\ttrain_df = train_df.replace(to_replace = area_name, value = small_area_name.index(area_name))\n",
    "\n",
    " # Altering the ken area name \n",
    "ken_name = list(set(train_df['ken_name']))\n",
    "for area_name in ken_name:\n",
    "\ttrain_df = train_df.replace(to_replace = area_name, value = ken_name.index(area_name))\n",
    "\n",
    "\n",
    "# Altering the genre name \n",
    "genre_name = list(set(train_df['GENRE_NAME']))\n",
    "for name in genre_name:\n",
    "\ttrain_df = train_df.replace(to_replace = name, value = genre_name.index(name))\n",
    "\n",
    "\n",
    "X = train_df.drop('USER_ID_hash', axis = 1)\n",
    "Y = train_df['USER_ID_hash']"
   ]
  },
  {
   "cell_type": "code",
   "execution_count": 6,
   "metadata": {
    "collapsed": true
   },
   "outputs": [],
   "source": [
    "# Altering the testing dataset\n",
    "\n",
    "# Altering the large area name\n",
    "for area_name in large_area_name:\n",
    "\ttest_df = test_df.replace(to_replace = area_name, value = large_area_name.index(area_name))\n",
    "\n",
    "# Altering the small area name\n",
    "for area_name in small_area_name:\n",
    "\ttest_df = test_df.replace(to_replace = area_name, value = small_area_name.index(area_name))\n",
    "\n",
    "# Altering the ken area name\n",
    "for area_name in ken_name:\n",
    "\ttest_df = test_df.replace(to_replace = area_name, value = ken_name.index(area_name))\n",
    "\n",
    "# Altering the genre name \n",
    "for name in genre_name:\n",
    "\ttest_df = test_df.replace(to_replace = name, value = genre_name.index(name))"
   ]
  },
  {
   "cell_type": "code",
   "execution_count": 7,
   "metadata": {},
   "outputs": [
    {
     "name": "stderr",
     "output_type": "stream",
     "text": [
      "/Users/utkarsh/anaconda2/lib/python2.7/site-packages/sklearn/base.py:312: UserWarning: Trying to unpickle estimator DecisionTreeClassifier from version 0.18.1 when using version 0.19.0. This might lead to breaking code or invalid results. Use at your own risk.\n",
      "  UserWarning)\n"
     ]
    }
   ],
   "source": [
    "DT = pickle.load(open('../Trained_Classifiers/decision_tree.sav', 'rb'))"
   ]
  },
  {
   "cell_type": "code",
   "execution_count": null,
   "metadata": {},
   "outputs": [],
   "source": [
    "print 'starting the plot....'\n",
    "skplt.estimators.plot_feature_importances(DT,feature_names=['GN','PR','CP','DP','VP','US','LAN','KEN','SAN'])\n",
    "plt.show()\n",
    "print 'ending the plot....'\n"
   ]
  },
  {
   "cell_type": "code",
   "execution_count": null,
   "metadata": {
    "collapsed": true
   },
   "outputs": [],
   "source": []
  },
  {
   "cell_type": "code",
   "execution_count": null,
   "metadata": {
    "collapsed": true
   },
   "outputs": [],
   "source": []
  },
  {
   "cell_type": "code",
   "execution_count": null,
   "metadata": {
    "collapsed": true
   },
   "outputs": [],
   "source": []
  }
 ],
 "metadata": {
  "kernelspec": {
   "display_name": "Python 2",
   "language": "python",
   "name": "python2"
  },
  "language_info": {
   "codemirror_mode": {
    "name": "ipython",
    "version": 2
   },
   "file_extension": ".py",
   "mimetype": "text/x-python",
   "name": "python",
   "nbconvert_exporter": "python",
   "pygments_lexer": "ipython2",
   "version": "2.7.13"
  }
 },
 "nbformat": 4,
 "nbformat_minor": 2
}
